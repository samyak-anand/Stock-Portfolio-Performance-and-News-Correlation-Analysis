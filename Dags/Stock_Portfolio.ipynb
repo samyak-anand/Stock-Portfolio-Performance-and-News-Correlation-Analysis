{
 "cells": [
  {
   "cell_type": "code",
   "execution_count": 1,
   "id": "9a2e2d9f",
   "metadata": {},
   "outputs": [
    {
     "name": "stderr",
     "output_type": "stream",
     "text": [
      "2025-04-24 09:47:05,413 - INFO - StockPortfolioLogger - Configuration loaded successfully.\n",
      "2025-04-24 09:47:05,762 - INFO - StockPortfolioLogger - Starting data injection process...\n",
      "2025-04-24 09:47:05,764 - INFO - StockPortfolioLogger - Fetching news for AAPL\n",
      "2025-04-24 09:47:06,011 - INFO - StockPortfolioLogger - AAPL → 238 articles fetched\n",
      "2025-04-24 09:47:06,013 - INFO - StockPortfolioLogger - Fetching news for TSLA\n",
      "2025-04-24 09:47:06,229 - INFO - StockPortfolioLogger - TSLA → 233 articles fetched\n",
      "2025-04-24 09:47:06,231 - INFO - StockPortfolioLogger - Fetching news for MSFT\n",
      "2025-04-24 09:47:06,521 - INFO - StockPortfolioLogger - MSFT → 238 articles fetched\n",
      "2025-04-24 09:47:06,524 - INFO - StockPortfolioLogger - Fetching news for AMZN\n",
      "2025-04-24 09:47:06,835 - INFO - StockPortfolioLogger - AMZN → 246 articles fetched\n",
      "2025-04-24 09:47:06,836 - INFO - StockPortfolioLogger - Fetching news for GOOGL\n",
      "2025-04-24 09:47:07,132 - INFO - StockPortfolioLogger - GOOGL → 239 articles fetched\n",
      "2025-04-24 09:47:07,148 - INFO - StockPortfolioLogger - Converted articles to DataFrame successfully\n",
      "2025-04-24 09:47:07,290 - INFO - StockPortfolioLogger - Dow Jones data loaded successfully.\n",
      "2025-04-24 09:47:07,313 - INFO - StockPortfolioLogger - NASDAQ data loaded successfully.\n",
      "2025-04-24 09:47:07,340 - INFO - StockPortfolioLogger - S&P 500 data loaded successfully.\n",
      "2025-04-24 09:47:07,350 - INFO - StockPortfolioLogger - Portfolio data loaded successfully.\n"
     ]
    },
    {
     "name": "stdout",
     "output_type": "stream",
     "text": [
      "     ticker                                           headline  \\\n",
      "0      AAPL  Apple's AI shakeup: They might not be 'moving ...   \n",
      "1      AAPL  Apple (AAPL) Eyes AI-Powered Future Despite De...   \n",
      "2      AAPL  Apple, in effort to turn around Siri, shakes u...   \n",
      "3      AAPL  Accenture reports Q2 beat, Apple TV+ losing $1...   \n",
      "4      AAPL  Report: Apple Reassigns Siri Development to Vi...   \n",
      "...     ...                                                ...   \n",
      "1189  GOOGL  Quantum Computing Stocks: Why David Vs. Goliat...   \n",
      "1190  GOOGL  Here Are 5 Quality Stocks Nearing Multiple Yea...   \n",
      "1191  GOOGL  CDT Insider Sentiment February 2025: Tariff Pa...   \n",
      "1192  GOOGL  Tracking Bill Ackman's Pershing Square 13F Por...   \n",
      "1193  GOOGL  My Top 3 Dividend-Paying Buy-And-Hold Stocks F...   \n",
      "\n",
      "                                                summary            datetime  \\\n",
      "0     Apple (AAPL) is shaking up its AI executives, ... 2025-03-21 23:45:00   \n",
      "1     We recently published a list of 10 AI Stocks T... 2025-03-21 21:34:28   \n",
      "2     Apple (AAPL) CEO Tim Cook lost faith in AI hea... 2025-03-21 17:17:22   \n",
      "3     The major indexes were fractionally higher nea... 2025-03-21 17:16:26   \n",
      "4     Siri is no longer under AI chief John Giannand... 2025-03-21 16:51:44   \n",
      "...                                                 ...                 ...   \n",
      "1189  Quantum Computing Stocks: Why David Vs. Goliat... 2025-03-06 09:35:41   \n",
      "1190  Read here for highlights on five stocks with s... 2025-03-06 00:35:53   \n",
      "1191  President Trump promised a radical approach to... 2025-03-05 20:00:00   \n",
      "1192                                                    2025-03-05 19:32:11   \n",
      "1193  In todayâs article, I will present you with ... 2025-03-05 14:00:00   \n",
      "\n",
      "                                                    url        source  \n",
      "0     https://finnhub.io/api/news?id=28df6f8c82b485d...         Yahoo  \n",
      "1     https://finnhub.io/api/news?id=47a2acfb39cc93c...         Yahoo  \n",
      "2     https://finnhub.io/api/news?id=78367bba2513b3e...         Yahoo  \n",
      "3     https://finnhub.io/api/news?id=7fa6ca959283b70...         Yahoo  \n",
      "4     https://finnhub.io/api/news?id=8d5760e25ac6966...         Yahoo  \n",
      "...                                                 ...           ...  \n",
      "1189  https://finnhub.io/api/news?id=7a76119040cdb29...      DowJones  \n",
      "1190  https://finnhub.io/api/news?id=8ae5dff30bdd684...  SeekingAlpha  \n",
      "1191  https://finnhub.io/api/news?id=69ff694d689b049...  SeekingAlpha  \n",
      "1192  https://finnhub.io/api/news?id=cfe993480b9c2b6...  SeekingAlpha  \n",
      "1193  https://finnhub.io/api/news?id=ecacb81aa1915a4...  SeekingAlpha  \n",
      "\n",
      "[1194 rows x 6 columns]\n",
      "Stock data saved to 'news_data.csv'\n"
     ]
    },
    {
     "name": "stderr",
     "output_type": "stream",
     "text": [
      "2025-04-24 09:47:07,803 - INFO - StockPortfolioLogger - Portfolio prices data loaded successfully.\n"
     ]
    }
   ],
   "source": [
    "import pandas as pd\n",
    "import news_injection\n",
    "import stock_data_injection"
   ]
  },
  {
   "cell_type": "code",
   "execution_count": 2,
   "id": "90aada20",
   "metadata": {},
   "outputs": [],
   "source": [
    "portfolio_df= stock_data_injection.portfolio\n",
    "portfolio_price_df= stock_data_injection.portfolio_price\n"
   ]
  },
  {
   "cell_type": "code",
   "execution_count": 21,
   "id": "2044ba3b",
   "metadata": {},
   "outputs": [],
   "source": [
    "new_data_df= pd.read_csv('/home/samyak/PycharmProjects/Stock-Portfolio-Performance-and-News-Correlation-Analysis/updated_news_data.csv')"
   ]
  },
  {
   "cell_type": "code",
   "execution_count": 39,
   "id": "58ff7f9a",
   "metadata": {},
   "outputs": [],
   "source": [
    "def dataframe_overview(df):\n",
    "    #display basic information about dataframe \n",
    "    print('Dataframe Info:\\n')\n",
    "    df.info()\n",
    "\n",
    "    #display the description of datframe \n",
    "    print('\\n Dataframe Description:\\n')\n",
    "    print(df.describe())\n",
    "    \n",
    "    #display for the null value presrnt in the dataframe\n",
    "    print(\"\\n Check null value in Dataframe: \\n\")\n",
    "    print(df.isnull().sum())\n",
    "\n",
    "    #display for the duplicate values in the dataframe\n",
    "    print('\\n Check Duplicate values in Datafrme: \\n')\n",
    "    print(df.duplicated().sum())\n",
    "    \n",
    "    # display the unique values present in the Dataframe\n",
    "    print('\\n Check the unique values of dataframe: \\n')\n",
    "    print(df.nunique())\n",
    "\n",
    "    #display the column details of each dataframe\n",
    "    print('\\n Column Description: \\n')\n",
    "    print(list(df.columns))\n",
    "\n",
    "    # display the shape of each dataframe\n",
    "    print('\\n Shape of Dataframe (Rows,Colums):\\n')\n",
    "    print(df.shape)\n",
    "\n",
    "    #display the data type of dataframe\n",
    "    print('\\n Data type of Each Column in Dataframe: \\n ')\n",
    "    print(df.dtypes)\n",
    "\n",
    "    return \n"
   ]
  },
  {
   "cell_type": "code",
   "execution_count": null,
   "id": "7b85af47",
   "metadata": {},
   "outputs": [],
   "source": []
  }
 ],
 "metadata": {
  "kernelspec": {
   "display_name": ".venv",
   "language": "python",
   "name": "python3"
  },
  "language_info": {
   "codemirror_mode": {
    "name": "ipython",
    "version": 3
   },
   "file_extension": ".py",
   "mimetype": "text/x-python",
   "name": "python",
   "nbconvert_exporter": "python",
   "pygments_lexer": "ipython3",
   "version": "3.12.3"
  }
 },
 "nbformat": 4,
 "nbformat_minor": 5
}
